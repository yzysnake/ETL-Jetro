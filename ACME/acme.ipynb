{
 "cells": [
  {
   "metadata": {},
   "cell_type": "markdown",
   "source": [
    "## ACME\n",
    "### Remember to change E.D.D"
   ],
   "id": "bb62fb42855c3c22"
  },
  {
   "metadata": {
    "ExecuteTime": {
     "end_time": "2025-09-09T17:07:02.343675Z",
     "start_time": "2025-09-09T17:07:02.036474Z"
    }
   },
   "cell_type": "code",
   "source": [
    "from tools.acme_tool import *\n",
    "from tools.read_file_tool import *"
   ],
   "id": "dfb44e2443a334c",
   "outputs": [],
   "execution_count": 1
  },
  {
   "metadata": {
    "ExecuteTime": {
     "end_time": "2025-09-09T17:07:04.322406Z",
     "start_time": "2025-09-09T17:07:03.859428Z"
    }
   },
   "cell_type": "code",
   "source": [
    "df, file_name = read_clean_file_name()\n",
    "cleaned_acme_df = clean_acme_df(df, file_name)\n",
    "cleaned_acme_output_df = build_acme_output(cleaned_acme_df, edd= '9/22/2025')\n",
    "out_path = build_acme_output_path(file_name)\n",
    "write_acme_output_excel(cleaned_acme_output_df, out_path)\n",
    "write_ADPO_X_file(cleaned_acme_output_df)"
   ],
   "id": "c4f7d3c2217958f",
   "outputs": [
    {
     "data": {
      "text/plain": [
       "WindowsPath('output_folder/2025-09-09_ADPO_X_Vendor44602.txt')"
      ]
     },
     "execution_count": 2,
     "metadata": {},
     "output_type": "execute_result"
    }
   ],
   "execution_count": 2
  }
 ],
 "metadata": {
  "kernelspec": {
   "display_name": "Python 3",
   "language": "python",
   "name": "python3"
  },
  "language_info": {
   "codemirror_mode": {
    "name": "ipython",
    "version": 2
   },
   "file_extension": ".py",
   "mimetype": "text/x-python",
   "name": "python",
   "nbconvert_exporter": "python",
   "pygments_lexer": "ipython2",
   "version": "2.7.6"
  }
 },
 "nbformat": 4,
 "nbformat_minor": 5
}
