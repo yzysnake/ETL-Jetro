{
 "cells": [
  {
   "metadata": {},
   "cell_type": "markdown",
   "source": [
    "## ACME\n",
    "### Remember to change E.D.D"
   ],
   "id": "bb62fb42855c3c22"
  },
  {
   "metadata": {
    "ExecuteTime": {
     "end_time": "2025-09-09T17:07:02.343675Z",
     "start_time": "2025-09-09T17:07:02.036474Z"
    }
   },
   "cell_type": "code",
   "source": [
    "from tools.acme_tool import *\n",
    "from tools.read_file_tool import *\n",
    "from tools.combine_pdf_tool import *"
   ],
   "id": "dfb44e2443a334c",
   "outputs": [],
   "execution_count": 1
  },
  {
   "metadata": {
    "ExecuteTime": {
     "end_time": "2025-09-09T17:07:04.322406Z",
     "start_time": "2025-09-09T17:07:03.859428Z"
    }
   },
   "cell_type": "code",
   "source": [
    "df, file_name = read_clean_file_name()\n",
    "cleaned_acme_df = clean_acme_df(df, file_name)\n",
    "cleaned_acme_output_df = build_acme_output(cleaned_acme_df, edd= '9/22/2025')\n",
    "out_path = build_acme_output_path(file_name)\n",
    "write_acme_output_excel(cleaned_acme_output_df, out_path)\n",
    "write_ADPO_X_file(cleaned_acme_output_df)"
   ],
   "id": "c4f7d3c2217958f",
   "outputs": [
    {
     "data": {
      "text/plain": [
       "WindowsPath('output_folder/2025-09-09_ADPO_X_Vendor44602.txt')"
      ]
     },
     "execution_count": 2,
     "metadata": {},
     "output_type": "execute_result"
    }
   ],
   "execution_count": 2
  },
  {
   "metadata": {},
   "cell_type": "markdown",
   "source": "## Retrieve and Combine PO PDFs",
   "id": "90a368e68b8e8f07"
  },
  {
   "metadata": {},
   "cell_type": "code",
   "outputs": [],
   "execution_count": null,
   "source": "po_df = read_latest_po_csv()",
   "id": "9fad1b709f32dddb"
  },
  {
   "metadata": {},
   "cell_type": "code",
   "outputs": [],
   "execution_count": null,
   "source": [
    "status_df = retrieve_pdf(\n",
    "    po_df,\n",
    "    r\"output_folder\",\n",
    "    r\"\\\\10.1.12.17\\PO_Share\\P20\",\n",
    "    poll_interval=2,\n",
    "    settle_time=1,              # Wait for drop\n",
    "    max_wait_seconds=None,      # 3600 for 1 hour\n",
    "    verbose=True,\n",
    ")"
   ],
   "id": "ddce5fa44755b317"
  },
  {
   "metadata": {},
   "cell_type": "code",
   "outputs": [],
   "execution_count": null,
   "source": "out_path = combine_pdf()",
   "id": "79eeb3b9a0a96c3e"
  }
 ],
 "metadata": {
  "kernelspec": {
   "display_name": "Python 3",
   "language": "python",
   "name": "python3"
  },
  "language_info": {
   "codemirror_mode": {
    "name": "ipython",
    "version": 2
   },
   "file_extension": ".py",
   "mimetype": "text/x-python",
   "name": "python",
   "nbconvert_exporter": "python",
   "pygments_lexer": "ipython2",
   "version": "2.7.6"
  }
 },
 "nbformat": 4,
 "nbformat_minor": 5
}
