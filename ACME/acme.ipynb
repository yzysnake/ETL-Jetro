{
 "cells": [
  {
   "metadata": {},
   "cell_type": "markdown",
   "source": "## ACME",
   "id": "bb62fb42855c3c22"
  },
  {
   "metadata": {
    "ExecuteTime": {
     "end_time": "2025-09-04T15:44:49.677923Z",
     "start_time": "2025-09-04T15:44:49.412151Z"
    }
   },
   "cell_type": "code",
   "source": [
    "from tools.acme_tool import *\n",
    "from tools.read_file_tool import *"
   ],
   "id": "dfb44e2443a334c",
   "outputs": [],
   "execution_count": 1
  },
  {
   "metadata": {
    "ExecuteTime": {
     "end_time": "2025-09-04T15:45:31.280252Z",
     "start_time": "2025-09-04T15:45:31.231676Z"
    }
   },
   "cell_type": "code",
   "source": [
    "df, file_name = read_clean_file_name()\n",
    "cleaned_acme_df = clean_acme_df(df, file_name)\n",
    "cleaned_acme_output_df = build_acme_output(cleaned_acme_df, edd= '9/15/2025')\n",
    "out_path = build_acme_output_path(file_name)\n",
    "write_acme_output_excel(cleaned_acme_output_df, out_path)"
   ],
   "id": "c4f7d3c2217958f",
   "outputs": [],
   "execution_count": 5
  },
  {
   "metadata": {},
   "cell_type": "code",
   "outputs": [],
   "execution_count": null,
   "source": "",
   "id": "e9d1b117a9c6d5fa"
  }
 ],
 "metadata": {
  "kernelspec": {
   "display_name": "Python 3",
   "language": "python",
   "name": "python3"
  },
  "language_info": {
   "codemirror_mode": {
    "name": "ipython",
    "version": 2
   },
   "file_extension": ".py",
   "mimetype": "text/x-python",
   "name": "python",
   "nbconvert_exporter": "python",
   "pygments_lexer": "ipython2",
   "version": "2.7.6"
  }
 },
 "nbformat": 4,
 "nbformat_minor": 5
}
