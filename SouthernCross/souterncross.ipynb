{
 "cells": [
  {
   "metadata": {},
   "cell_type": "markdown",
   "source": [
    "## Southern Cross\n",
    "### Remember to change E.D.D"
   ],
   "id": "31a8d6c294b9be4"
  },
  {
   "metadata": {
    "collapsed": true
   },
   "cell_type": "code",
   "source": [
    "from tools.southern_cross_tool import *\n",
    "from tools.read_file_tool import *\n",
    "from tools.combine_pdf_tool import *"
   ],
   "id": "3c36e423e32efef0",
   "outputs": [],
   "execution_count": null
  },
  {
   "metadata": {},
   "cell_type": "code",
   "source": [
    "df, file_name = read_clean_file_name()\n",
    "cleaned_southern_cross_df = clean_southern_cross_df(df, file_name)\n",
    "cleaned_southern_cross_df_pivot = build_southern_cross_df_cleaned_pivot(cleaned_southern_cross_df)\n",
    "cleaned_southern_cross_output_df = build_southern_cross_output(cleaned_southern_cross_df_pivot, edd= '9/22/2025')\n",
    "out_path = build_southern_cross_output_path(file_name)\n",
    "write_southern_cross_output_excel(cleaned_southern_cross_output_df, out_path)\n",
    "write_ADPO_X_file(cleaned_southern_cross_output_df)"
   ],
   "id": "af75e6ffd76655b7",
   "outputs": [],
   "execution_count": null
  },
  {
   "metadata": {},
   "cell_type": "markdown",
   "source": "## Retrieve and Combine PO PDFs",
   "id": "b45a38c7b32f04ed"
  },
  {
   "metadata": {},
   "cell_type": "code",
   "source": "po_df = read_latest_po_csv()",
   "id": "4ca9d5d67ec26c4b",
   "outputs": [],
   "execution_count": null
  },
  {
   "metadata": {},
   "cell_type": "code",
   "source": [
    "status_df = retrieve_pdf(\n",
    "    po_df,\n",
    "    r\"output_folder\",\n",
    "    r\"\\\\10.1.12.17\\PO_Share\\P2M\",\n",
    "    poll_interval=0.5,\n",
    "    settle_time=0.5,  # Wait for drop\n",
    "    max_wait_seconds=None,  # 3600 for 1 hour\n",
    "    verbose=True,\n",
    ")"
   ],
   "id": "8f4bcea5191aa0ed",
   "outputs": [],
   "execution_count": null
  },
  {
   "metadata": {},
   "cell_type": "code",
   "source": "out_path = combine_pdf()",
   "id": "24ad2a411e318b59",
   "outputs": [],
   "execution_count": null
  }
 ],
 "metadata": {
  "kernelspec": {
   "display_name": "Python 3",
   "language": "python",
   "name": "python3"
  },
  "language_info": {
   "codemirror_mode": {
    "name": "ipython",
    "version": 2
   },
   "file_extension": ".py",
   "mimetype": "text/x-python",
   "name": "python",
   "nbconvert_exporter": "python",
   "pygments_lexer": "ipython2",
   "version": "2.7.6"
  }
 },
 "nbformat": 4,
 "nbformat_minor": 5
}
