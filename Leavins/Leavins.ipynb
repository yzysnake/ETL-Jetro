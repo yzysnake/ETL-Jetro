{
 "cells": [
  {
   "metadata": {},
   "cell_type": "markdown",
   "source": "## Leavins",
   "id": "3c03f6cca856eeb6"
  },
  {
   "metadata": {
    "ExecuteTime": {
     "end_time": "2025-09-15T17:48:08.796424Z",
     "start_time": "2025-09-15T17:48:08.361552Z"
    }
   },
   "cell_type": "code",
   "source": [
    "from tools.read_file_tool import *\n",
    "from tools.allocation_tool import *\n",
    "from tools.combine_pdf_tool import *"
   ],
   "id": "4d45915b4c6b86",
   "outputs": [],
   "execution_count": 1
  },
  {
   "metadata": {},
   "cell_type": "markdown",
   "source": [
    "## DLPM Leavins List\n",
    "### Remember to change EDD"
   ],
   "id": "5bdbc1dab37aa2d6"
  },
  {
   "metadata": {
    "ExecuteTime": {
     "end_time": "2025-09-15T17:48:09.467917Z",
     "start_time": "2025-09-15T17:48:09.393777Z"
    }
   },
   "cell_type": "code",
   "source": [
    "allocation_df= read_allocation_pricesheet()\n",
    "cleaned_allocation_df = clean_allocation_df(allocation_df)\n",
    "cleaned_allocation_pivot_df = build_allocation_df_cleaned_pivot(cleaned_allocation_df)\n",
    "cleaned_allocation_output_df = build_allocation_output(cleaned_allocation_pivot_df, edd= '9/19/2025')\n",
    "out_path = build_allocation_output_path()\n",
    "write_allocation_output_excel(cleaned_allocation_output_df, out_path)\n",
    "write_ADPO_X_file(cleaned_allocation_output_df)"
   ],
   "id": "b5b17363fdb9a2b4",
   "outputs": [
    {
     "data": {
      "text/plain": [
       "WindowsPath('output_folder/2025-09-15_ADPO_X_Vendor79906.txt')"
      ]
     },
     "execution_count": 2,
     "metadata": {},
     "output_type": "execute_result"
    }
   ],
   "execution_count": 2
  },
  {
   "metadata": {},
   "cell_type": "markdown",
   "source": "## Retrieve and Combine PO PDFs",
   "id": "b4aed4edd4865880"
  },
  {
   "metadata": {
    "ExecuteTime": {
     "end_time": "2025-09-15T17:50:54.227813Z",
     "start_time": "2025-09-15T17:50:54.217049Z"
    }
   },
   "cell_type": "code",
   "source": "po_df = read_latest_po_csv()",
   "id": "867cad5fc0cc3ffd",
   "outputs": [
    {
     "name": "stdout",
     "output_type": "stream",
     "text": [
      "Reading latest file: VendorNo-79906-2025-09-15.csv (modified 2025-09-15 12:50:16)\n",
      "Received POs:\n",
      "123-45879\n",
      "186-57173\n",
      "402-20721\n",
      "411-13036\n",
      "413-13742\n",
      "417-43440\n",
      "418-12589\n",
      "422-29455\n",
      "458-41774\n"
     ]
    }
   ],
   "execution_count": 3
  },
  {
   "metadata": {
    "ExecuteTime": {
     "end_time": "2025-09-15T17:51:33.662063Z",
     "start_time": "2025-09-15T17:51:03.913676Z"
    }
   },
   "cell_type": "code",
   "source": [
    "status_df = retrieve_pdf(\n",
    "    po_df,\n",
    "    r\"output_folder\",\n",
    "    r\"\\\\10.1.12.17\\PO_Share\\P2M\",\n",
    "    poll_interval=0.5,\n",
    "    settle_time=0.5,              # Wait for drop\n",
    "    max_wait_seconds=None,      # 3600 for 1 hour\n",
    "    verbose=True,\n",
    ")"
   ],
   "id": "256385c809ca016e",
   "outputs": [
    {
     "name": "stdout",
     "output_type": "stream",
     "text": [
      "[12:51:04] waiting: 9 -> ['123-45879', '186-57173', '402-20721', '411-13036', '413-13742', '417-43440', '418-12589', '422-29455', '458-41774'] | done: 0\n",
      "[HIT] PO=123-45879 at \\\\10.1.12.17\\PO_Share\\P2M\\79906-123-45879.PDF\n",
      "      Waiting for stability: 0.5s\n",
      "[OK] Moved: 79906-123-45879.PDF -> output_folder\\pdf_folder\\79906-123-45879.PDF\n",
      "[HIT] PO=186-57173 at \\\\10.1.12.17\\PO_Share\\P2M\\79906-186-57173.PDF\n",
      "      Waiting for stability: 0.5s\n",
      "[OK] Moved: 79906-186-57173.PDF -> output_folder\\pdf_folder\\79906-186-57173.PDF\n",
      "[HIT] PO=402-20721 at \\\\10.1.12.17\\PO_Share\\P2M\\79906-402-20721.PDF\n",
      "      Waiting for stability: 0.5s\n",
      "[OK] Moved: 79906-402-20721.PDF -> output_folder\\pdf_folder\\79906-402-20721.PDF\n",
      "[HIT] PO=411-13036 at \\\\10.1.12.17\\PO_Share\\P2M\\79906-411-13036.PDF\n",
      "      Waiting for stability: 0.5s\n",
      "[OK] Moved: 79906-411-13036.PDF -> output_folder\\pdf_folder\\79906-411-13036.PDF\n",
      "[HIT] PO=413-13742 at \\\\10.1.12.17\\PO_Share\\P2M\\79906-413-13742.PDF\n",
      "      Waiting for stability: 0.5s\n",
      "[OK] Moved: 79906-413-13742.PDF -> output_folder\\pdf_folder\\79906-413-13742.PDF\n",
      "[HIT] PO=417-43440 at \\\\10.1.12.17\\PO_Share\\P2M\\79906-417-43440.PDF\n",
      "      Waiting for stability: 0.5s\n",
      "[OK] Moved: 79906-417-43440.PDF -> output_folder\\pdf_folder\\79906-417-43440.PDF\n",
      "[HIT] PO=418-12589 at \\\\10.1.12.17\\PO_Share\\P2M\\79906-418-12589.PDF\n",
      "      Waiting for stability: 0.5s\n",
      "[OK] Moved: 79906-418-12589.PDF -> output_folder\\pdf_folder\\79906-418-12589.PDF\n",
      "[HIT] PO=422-29455 at \\\\10.1.12.17\\PO_Share\\P2M\\79906-422-29455.PDF\n",
      "      Waiting for stability: 0.5s\n",
      "[OK] Moved: 79906-422-29455.PDF -> output_folder\\pdf_folder\\79906-422-29455.PDF\n",
      "[HIT] PO=458-41774 at \\\\10.1.12.17\\PO_Share\\P2M\\79906-458-41774.PDF\n",
      "      Waiting for stability: 0.5s\n",
      "[OK] Moved: 79906-458-41774.PDF -> output_folder\\pdf_folder\\79906-458-41774.PDF\n",
      "[DONE] Completed 9/9. Output dir: output_folder\\pdf_folder\n"
     ]
    }
   ],
   "execution_count": 4
  },
  {
   "metadata": {
    "ExecuteTime": {
     "end_time": "2025-09-15T17:52:26.779439Z",
     "start_time": "2025-09-15T17:52:26.652610Z"
    }
   },
   "cell_type": "code",
   "source": "out_path = combine_pdf()",
   "id": "ae48ec529b45602d",
   "outputs": [
    {
     "name": "stdout",
     "output_type": "stream",
     "text": [
      "Merging 9 PDF(s) from: output_folder/pdf_folder\n",
      "output_folder\\9 orders 09-15-25.pdf\n"
     ]
    }
   ],
   "execution_count": 6
  },
  {
   "metadata": {},
   "cell_type": "markdown",
   "source": "## Auto Email -- OutLook",
   "id": "a1c43c302319715a"
  },
  {
   "metadata": {},
   "cell_type": "code",
   "source": "",
   "id": "7328b6232e3a195a",
   "outputs": [],
   "execution_count": null
  }
 ],
 "metadata": {
  "kernelspec": {
   "display_name": "Python 3",
   "language": "python",
   "name": "python3"
  },
  "language_info": {
   "codemirror_mode": {
    "name": "ipython",
    "version": 2
   },
   "file_extension": ".py",
   "mimetype": "text/x-python",
   "name": "python",
   "nbconvert_exporter": "python",
   "pygments_lexer": "ipython2",
   "version": "2.7.6"
  }
 },
 "nbformat": 4,
 "nbformat_minor": 5
}
