{
 "cells": [
  {
   "metadata": {},
   "cell_type": "markdown",
   "source": "## 24/7",
   "id": "3c03f6cca856eeb6"
  },
  {
   "metadata": {
    "ExecuteTime": {
     "end_time": "2025-09-09T14:21:28.465285Z",
     "start_time": "2025-09-09T14:21:28.005756Z"
    }
   },
   "cell_type": "code",
   "source": [
    "from tools.read_file_tool import *\n",
    "from tools.allocation_tool import *\n",
    "from tools.pricesheet_tool import *"
   ],
   "id": "4d45915b4c6b86",
   "outputs": [],
   "execution_count": 1
  },
  {
   "metadata": {},
   "cell_type": "markdown",
   "source": "## DLPM Price List",
   "id": "27ef7f9cb8504c59"
  },
  {
   "metadata": {
    "ExecuteTime": {
     "end_time": "2025-09-09T14:21:31.777471Z",
     "start_time": "2025-09-09T14:21:31.649331Z"
    }
   },
   "cell_type": "code",
   "source": [
    "allocation_df, price_sheet_df = read_allocation_pricesheet()\n",
    "cleaned_price_sheet_df = clean_price_sheet_df(price_sheet_df)\n",
    "cleaned_price_sheet_long_df = build_price_sheet_long(cleaned_price_sheet_df)"
   ],
   "id": "ac7073e3e41bca3",
   "outputs": [],
   "execution_count": 2
  },
  {
   "metadata": {},
   "cell_type": "code",
   "source": "write_DLPM_file(cleaned_price_sheet_long_df, initials= 'p.y')",
   "id": "97157d00be76515e",
   "outputs": [],
   "execution_count": null
  },
  {
   "metadata": {},
   "cell_type": "markdown",
   "source": "## DLPM Price List",
   "id": "5bdbc1dab37aa2d6"
  },
  {
   "metadata": {
    "ExecuteTime": {
     "end_time": "2025-09-09T14:21:38.063377Z",
     "start_time": "2025-09-09T14:21:38.047348Z"
    }
   },
   "cell_type": "code",
   "source": [
    "cleaned_allocation_df = clean_allocation_df(allocation_df)\n",
    "cleaned_allocation_pivot_df = build_allocation_df_cleaned_pivot(cleaned_allocation_df)"
   ],
   "id": "3c4c7bac27b69b29",
   "outputs": [],
   "execution_count": 3
  },
  {
   "metadata": {
    "ExecuteTime": {
     "end_time": "2025-09-09T14:21:38.754239Z",
     "start_time": "2025-09-09T14:21:38.636372Z"
    }
   },
   "cell_type": "code",
   "source": [
    "cleaned_allocation_output_df = build_allocation_output(cleaned_allocation_pivot_df)\n",
    "out_path = build_allocation_output_path()\n",
    "write_allocation_output_excel(cleaned_allocation_output_df, out_path)\n",
    "write_ADPO_X_file(cleaned_allocation_output_df)"
   ],
   "id": "b5b17363fdb9a2b4",
   "outputs": [],
   "execution_count": 4
  }
 ],
 "metadata": {
  "kernelspec": {
   "display_name": "Python 3",
   "language": "python",
   "name": "python3"
  },
  "language_info": {
   "codemirror_mode": {
    "name": "ipython",
    "version": 2
   },
   "file_extension": ".py",
   "mimetype": "text/x-python",
   "name": "python",
   "nbconvert_exporter": "python",
   "pygments_lexer": "ipython2",
   "version": "2.7.6"
  }
 },
 "nbformat": 4,
 "nbformat_minor": 5
}
