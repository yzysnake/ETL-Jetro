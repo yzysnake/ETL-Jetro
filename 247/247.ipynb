{
 "cells": [
  {
   "metadata": {},
   "cell_type": "markdown",
   "source": "## 24/7",
   "id": "3c03f6cca856eeb6"
  },
  {
   "metadata": {
    "ExecuteTime": {
     "end_time": "2025-09-04T17:00:38.732074Z",
     "start_time": "2025-09-04T17:00:38.730044Z"
    }
   },
   "cell_type": "code",
   "source": [
    "from tools.read_file_tool import *\n",
    "from tools.twenty_four_seven_tool import *"
   ],
   "id": "4d45915b4c6b86",
   "outputs": [],
   "execution_count": null
  },
  {
   "metadata": {
    "ExecuteTime": {
     "end_time": "2025-09-04T17:00:38.741097Z",
     "start_time": "2025-09-04T17:00:38.739143Z"
    }
   },
   "cell_type": "code",
   "source": "",
   "id": "64131ce0877b7d67",
   "outputs": [],
   "execution_count": null
  },
  {
   "metadata": {
    "ExecuteTime": {
     "end_time": "2025-09-04T17:00:38.751037Z",
     "start_time": "2025-09-04T17:00:38.749437Z"
    }
   },
   "cell_type": "code",
   "source": "",
   "id": "ee9f016e122d86fd",
   "outputs": [],
   "execution_count": null
  },
  {
   "metadata": {
    "ExecuteTime": {
     "end_time": "2025-09-04T17:00:38.759296Z",
     "start_time": "2025-09-04T17:00:38.757660Z"
    }
   },
   "cell_type": "code",
   "source": "",
   "id": "8c889f7060793855",
   "outputs": [],
   "execution_count": null
  },
  {
   "metadata": {},
   "cell_type": "code",
   "outputs": [],
   "execution_count": null,
   "source": "",
   "id": "6dde2190539d9b3e"
  }
 ],
 "metadata": {
  "kernelspec": {
   "display_name": "Python 3",
   "language": "python",
   "name": "python3"
  },
  "language_info": {
   "codemirror_mode": {
    "name": "ipython",
    "version": 2
   },
   "file_extension": ".py",
   "mimetype": "text/x-python",
   "name": "python",
   "nbconvert_exporter": "python",
   "pygments_lexer": "ipython2",
   "version": "2.7.6"
  }
 },
 "nbformat": 4,
 "nbformat_minor": 5
}
