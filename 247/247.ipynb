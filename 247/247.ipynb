{
 "cells": [
  {
   "metadata": {},
   "cell_type": "markdown",
   "source": "## 24/7",
   "id": "3c03f6cca856eeb6"
  },
  {
   "metadata": {},
   "cell_type": "code",
   "source": [
    "from tools.read_file_tool import *\n",
    "from tools.allocation_tool import *\n",
    "from tools.pricesheet_tool import *\n",
    "from tools.combine_pdf_tool import *"
   ],
   "id": "4d45915b4c6b86",
   "outputs": [],
   "execution_count": null
  },
  {
   "metadata": {},
   "cell_type": "markdown",
   "source": [
    "## DLPM Price List\n",
    "### Remember to your initials"
   ],
   "id": "27ef7f9cb8504c59"
  },
  {
   "metadata": {},
   "cell_type": "code",
   "source": [
    "allocation_df, price_sheet_df = read_allocation_pricesheet()\n",
    "cleaned_price_sheet_df = clean_price_sheet_df(price_sheet_df)\n",
    "cleaned_price_sheet_long_df = build_price_sheet_long(cleaned_price_sheet_df)"
   ],
   "id": "ac7073e3e41bca3",
   "outputs": [],
   "execution_count": null
  },
  {
   "metadata": {},
   "cell_type": "code",
   "source": "write_DLPM_file(cleaned_price_sheet_long_df, initials= 'p.y')",
   "id": "97157d00be76515e",
   "outputs": [],
   "execution_count": null
  },
  {
   "metadata": {},
   "cell_type": "markdown",
   "source": [
    "## DLPM Allocation List\n",
    "### Remember to change ALTR type before cutting orders"
   ],
   "id": "5bdbc1dab37aa2d6"
  },
  {
   "metadata": {},
   "cell_type": "code",
   "source": [
    "cleaned_allocation_df = clean_allocation_df(allocation_df)\n",
    "cleaned_allocation_pivot_df = build_allocation_df_cleaned_pivot(cleaned_allocation_df)"
   ],
   "id": "3c4c7bac27b69b29",
   "outputs": [],
   "execution_count": null
  },
  {
   "metadata": {},
   "cell_type": "code",
   "source": [
    "cleaned_allocation_output_df = build_allocation_output(cleaned_allocation_pivot_df)\n",
    "out_path = build_allocation_output_path()\n",
    "write_allocation_output_excel(cleaned_allocation_output_df, out_path)\n",
    "write_ADPO_X_file(cleaned_allocation_output_df)"
   ],
   "id": "b5b17363fdb9a2b4",
   "outputs": [],
   "execution_count": null
  },
  {
   "metadata": {},
   "cell_type": "markdown",
   "source": "## Retrieve and Combine PO PDFs",
   "id": "b4aed4edd4865880"
  },
  {
   "metadata": {},
   "cell_type": "code",
   "source": "po_df = read_latest_po_csv()",
   "id": "867cad5fc0cc3ffd",
   "outputs": [],
   "execution_count": null
  },
  {
   "metadata": {},
   "cell_type": "code",
   "source": [
    "status_df = retrieve_pdf(\n",
    "    po_df,\n",
    "    r\"output_folder\",\n",
    "    r\"\\\\10.1.12.17\\PO_Share\\P2E\",\n",
    "    poll_interval=2,\n",
    "    settle_time=1,              # Wait for drop\n",
    "    max_wait_seconds=None,      # 3600 for 1 hour\n",
    "    verbose=True,\n",
    ")"
   ],
   "id": "256385c809ca016e",
   "outputs": [],
   "execution_count": null
  },
  {
   "metadata": {},
   "cell_type": "code",
   "source": "out_path = combine_pdf()",
   "id": "ae48ec529b45602d",
   "outputs": [],
   "execution_count": null
  },
  {
   "metadata": {},
   "cell_type": "markdown",
   "source": "## Auto Email -- OutLook",
   "id": "a1c43c302319715a"
  },
  {
   "metadata": {},
   "cell_type": "code",
   "source": "",
   "id": "6a2b11553b12b181",
   "outputs": [],
   "execution_count": null
  }
 ],
 "metadata": {
  "kernelspec": {
   "display_name": "Python 3",
   "language": "python",
   "name": "python3"
  },
  "language_info": {
   "codemirror_mode": {
    "name": "ipython",
    "version": 2
   },
   "file_extension": ".py",
   "mimetype": "text/x-python",
   "name": "python",
   "nbconvert_exporter": "python",
   "pygments_lexer": "ipython2",
   "version": "2.7.6"
  }
 },
 "nbformat": 4,
 "nbformat_minor": 5
}
