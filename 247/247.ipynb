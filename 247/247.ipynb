{
 "cells": [
  {
   "metadata": {},
   "cell_type": "markdown",
   "source": "## 24/7",
   "id": "3c03f6cca856eeb6"
  },
  {
   "metadata": {
    "ExecuteTime": {
     "end_time": "2025-09-10T13:08:19.508144Z",
     "start_time": "2025-09-10T13:08:19.452882Z"
    }
   },
   "cell_type": "code",
   "source": [
    "from tools.read_file_tool import *\n",
    "from tools.allocation_tool import *\n",
    "from tools.pricesheet_tool import *"
   ],
   "id": "4d45915b4c6b86",
   "outputs": [],
   "execution_count": 70
  },
  {
   "metadata": {},
   "cell_type": "markdown",
   "source": "## DLPM Price List",
   "id": "27ef7f9cb8504c59"
  },
  {
   "metadata": {
    "ExecuteTime": {
     "end_time": "2025-09-10T13:08:21.681253Z",
     "start_time": "2025-09-10T13:08:21.384923Z"
    }
   },
   "cell_type": "code",
   "source": [
    "allocation_df, price_sheet_df = read_allocation_pricesheet()\n",
    "cleaned_price_sheet_df = clean_price_sheet_df(price_sheet_df)\n",
    "cleaned_price_sheet_long_df = build_price_sheet_long(cleaned_price_sheet_df)"
   ],
   "id": "ac7073e3e41bca3",
   "outputs": [],
   "execution_count": 71
  },
  {
   "metadata": {
    "ExecuteTime": {
     "end_time": "2025-09-10T13:08:23.690218Z",
     "start_time": "2025-09-10T13:08:23.635425Z"
    }
   },
   "cell_type": "code",
   "source": "write_DLPM_file(cleaned_price_sheet_long_df, initials= 'p.y')",
   "id": "97157d00be76515e",
   "outputs": [
    {
     "data": {
      "text/plain": [
       "WindowsPath('output_folder/09-10-25 247DLPM.txt')"
      ]
     },
     "execution_count": 72,
     "metadata": {},
     "output_type": "execute_result"
    }
   ],
   "execution_count": 72
  },
  {
   "metadata": {
    "ExecuteTime": {
     "end_time": "2025-09-10T13:09:51.397563Z",
     "start_time": "2025-09-10T13:09:51.380534Z"
    }
   },
   "cell_type": "code",
   "source": "cleaned_price_sheet_long_df",
   "id": "5622492f66b9e95d",
   "outputs": [
    {
     "data": {
      "text/plain": [
       "    Store#  Item#  Vendor#   Cost\n",
       "0      123  29549    81214  12.14\n",
       "1      123  71285    81214   8.14\n",
       "2      123  71695    81214  15.10\n",
       "3      123  72398    81214   9.14\n",
       "4      123  72528    81214   2.14\n",
       "..     ...    ...      ...    ...\n",
       "865    449  40352    81214   6.30\n",
       "866    449  77804    81214   7.55\n",
       "867    449  40376    81214   7.15\n",
       "868    449  11055    81214   6.35\n",
       "869    449  80052    81214   7.35\n",
       "\n",
       "[870 rows x 4 columns]"
      ],
      "text/html": [
       "<div>\n",
       "<style scoped>\n",
       "    .dataframe tbody tr th:only-of-type {\n",
       "        vertical-align: middle;\n",
       "    }\n",
       "\n",
       "    .dataframe tbody tr th {\n",
       "        vertical-align: top;\n",
       "    }\n",
       "\n",
       "    .dataframe thead th {\n",
       "        text-align: right;\n",
       "    }\n",
       "</style>\n",
       "<table border=\"1\" class=\"dataframe\">\n",
       "  <thead>\n",
       "    <tr style=\"text-align: right;\">\n",
       "      <th></th>\n",
       "      <th>Store#</th>\n",
       "      <th>Item#</th>\n",
       "      <th>Vendor#</th>\n",
       "      <th>Cost</th>\n",
       "    </tr>\n",
       "  </thead>\n",
       "  <tbody>\n",
       "    <tr>\n",
       "      <th>0</th>\n",
       "      <td>123</td>\n",
       "      <td>29549</td>\n",
       "      <td>81214</td>\n",
       "      <td>12.14</td>\n",
       "    </tr>\n",
       "    <tr>\n",
       "      <th>1</th>\n",
       "      <td>123</td>\n",
       "      <td>71285</td>\n",
       "      <td>81214</td>\n",
       "      <td>8.14</td>\n",
       "    </tr>\n",
       "    <tr>\n",
       "      <th>2</th>\n",
       "      <td>123</td>\n",
       "      <td>71695</td>\n",
       "      <td>81214</td>\n",
       "      <td>15.10</td>\n",
       "    </tr>\n",
       "    <tr>\n",
       "      <th>3</th>\n",
       "      <td>123</td>\n",
       "      <td>72398</td>\n",
       "      <td>81214</td>\n",
       "      <td>9.14</td>\n",
       "    </tr>\n",
       "    <tr>\n",
       "      <th>4</th>\n",
       "      <td>123</td>\n",
       "      <td>72528</td>\n",
       "      <td>81214</td>\n",
       "      <td>2.14</td>\n",
       "    </tr>\n",
       "    <tr>\n",
       "      <th>...</th>\n",
       "      <td>...</td>\n",
       "      <td>...</td>\n",
       "      <td>...</td>\n",
       "      <td>...</td>\n",
       "    </tr>\n",
       "    <tr>\n",
       "      <th>865</th>\n",
       "      <td>449</td>\n",
       "      <td>40352</td>\n",
       "      <td>81214</td>\n",
       "      <td>6.30</td>\n",
       "    </tr>\n",
       "    <tr>\n",
       "      <th>866</th>\n",
       "      <td>449</td>\n",
       "      <td>77804</td>\n",
       "      <td>81214</td>\n",
       "      <td>7.55</td>\n",
       "    </tr>\n",
       "    <tr>\n",
       "      <th>867</th>\n",
       "      <td>449</td>\n",
       "      <td>40376</td>\n",
       "      <td>81214</td>\n",
       "      <td>7.15</td>\n",
       "    </tr>\n",
       "    <tr>\n",
       "      <th>868</th>\n",
       "      <td>449</td>\n",
       "      <td>11055</td>\n",
       "      <td>81214</td>\n",
       "      <td>6.35</td>\n",
       "    </tr>\n",
       "    <tr>\n",
       "      <th>869</th>\n",
       "      <td>449</td>\n",
       "      <td>80052</td>\n",
       "      <td>81214</td>\n",
       "      <td>7.35</td>\n",
       "    </tr>\n",
       "  </tbody>\n",
       "</table>\n",
       "<p>870 rows × 4 columns</p>\n",
       "</div>"
      ]
     },
     "execution_count": 73,
     "metadata": {},
     "output_type": "execute_result"
    }
   ],
   "execution_count": 73
  },
  {
   "metadata": {},
   "cell_type": "markdown",
   "source": [
    "## DLPM Allocation List\n",
    "### Remember to change ALTR type before cutting orders"
   ],
   "id": "5bdbc1dab37aa2d6"
  },
  {
   "metadata": {
    "ExecuteTime": {
     "end_time": "2025-09-10T13:46:38.624075Z",
     "start_time": "2025-09-10T13:46:38.596946Z"
    }
   },
   "cell_type": "code",
   "source": [
    "cleaned_allocation_df = clean_allocation_df(allocation_df)\n",
    "cleaned_allocation_pivot_df = build_allocation_df_cleaned_pivot(cleaned_allocation_df)"
   ],
   "id": "3c4c7bac27b69b29",
   "outputs": [],
   "execution_count": 77
  },
  {
   "metadata": {
    "ExecuteTime": {
     "end_time": "2025-09-10T13:46:38.764837Z",
     "start_time": "2025-09-10T13:46:38.694179Z"
    }
   },
   "cell_type": "code",
   "source": [
    "cleaned_allocation_output_df = build_allocation_output(cleaned_allocation_pivot_df)\n",
    "out_path = build_allocation_output_path()\n",
    "write_allocation_output_excel(cleaned_allocation_output_df, out_path)\n",
    "write_ADPO_X_file(cleaned_allocation_output_df)"
   ],
   "id": "b5b17363fdb9a2b4",
   "outputs": [
    {
     "data": {
      "text/plain": [
       "WindowsPath('output_folder/2025-09-10_ADPO_X_Vendor81214.txt')"
      ]
     },
     "execution_count": 78,
     "metadata": {},
     "output_type": "execute_result"
    }
   ],
   "execution_count": 78
  }
 ],
 "metadata": {
  "kernelspec": {
   "display_name": "Python 3",
   "language": "python",
   "name": "python3"
  },
  "language_info": {
   "codemirror_mode": {
    "name": "ipython",
    "version": 2
   },
   "file_extension": ".py",
   "mimetype": "text/x-python",
   "name": "python",
   "nbconvert_exporter": "python",
   "pygments_lexer": "ipython2",
   "version": "2.7.6"
  }
 },
 "nbformat": 4,
 "nbformat_minor": 5
}
