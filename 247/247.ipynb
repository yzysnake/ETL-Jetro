{
 "cells": [
  {
   "metadata": {},
   "cell_type": "markdown",
   "source": "## 24/7",
   "id": "3c03f6cca856eeb6"
  },
  {
   "metadata": {
    "ExecuteTime": {
     "end_time": "2025-09-05T20:05:05.369178Z",
     "start_time": "2025-09-05T20:05:04.958347Z"
    }
   },
   "cell_type": "code",
   "source": [
    "from tools.read_file_tool import *\n",
    "from tools.allocation_tool import *\n",
    "from tools.pricesheet_tool import *"
   ],
   "id": "4d45915b4c6b86",
   "outputs": [],
   "execution_count": 1
  },
  {
   "metadata": {
    "ExecuteTime": {
     "end_time": "2025-09-05T20:05:36.861237Z",
     "start_time": "2025-09-05T20:05:36.694778Z"
    }
   },
   "cell_type": "code",
   "source": [
    "allocation_df, price_sheet_df = read_allocation_pricesheet()\n",
    "cleaned_price_sheet_df = clean_price_sheet_df(price_sheet_df)\n",
    "cleaned_price_sheet_long_df = build_price_sheet_long(cleaned_price_sheet_df)"
   ],
   "id": "ac7073e3e41bca3",
   "outputs": [],
   "execution_count": 3
  },
  {
   "metadata": {
    "ExecuteTime": {
     "end_time": "2025-09-05T20:05:37.458721Z",
     "start_time": "2025-09-05T20:05:37.410211Z"
    }
   },
   "cell_type": "code",
   "source": "write_DLPM_file(cleaned_price_sheet_long_df, initials= 'p.y')",
   "id": "97157d00be76515e",
   "outputs": [
    {
     "data": {
      "text/plain": [
       "WindowsPath('output_folder/09-05-25 247DLPM.txt')"
      ]
     },
     "execution_count": 4,
     "metadata": {},
     "output_type": "execute_result"
    }
   ],
   "execution_count": 4
  },
  {
   "metadata": {},
   "cell_type": "code",
   "outputs": [],
   "execution_count": null,
   "source": "",
   "id": "ce51ad2341b270c2"
  }
 ],
 "metadata": {
  "kernelspec": {
   "display_name": "Python 3",
   "language": "python",
   "name": "python3"
  },
  "language_info": {
   "codemirror_mode": {
    "name": "ipython",
    "version": 2
   },
   "file_extension": ".py",
   "mimetype": "text/x-python",
   "name": "python",
   "nbconvert_exporter": "python",
   "pygments_lexer": "ipython2",
   "version": "2.7.6"
  }
 },
 "nbformat": 4,
 "nbformat_minor": 5
}
