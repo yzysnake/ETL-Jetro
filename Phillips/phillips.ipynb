{
 "cells": [
  {
   "metadata": {
    "collapsed": true
   },
   "cell_type": "markdown",
   "source": "## Phillips",
   "id": "50b20c6b64d3b2eb"
  },
  {
   "metadata": {},
   "cell_type": "code",
   "source": [
    "from tools.phillips_tool import *\n",
    "from tools.read_file_tool import *\n",
    "from tools.combine_pdf_tool import *"
   ],
   "id": "c154d58d6017dbf1",
   "outputs": [],
   "execution_count": null
  },
  {
   "metadata": {},
   "cell_type": "code",
   "source": [
    "df, file_name = read_clean_file_name()\n",
    "cleaned_phillips_df = clean_phillips_df(df, file_name)\n",
    "cleaned_acme_output_df = build_phillips_output(cleaned_phillips_df, edd= '10/02/2025')"
   ],
   "id": "7e22041cfdd9b108",
   "outputs": [],
   "execution_count": null
  },
  {
   "metadata": {},
   "cell_type": "code",
   "source": [
    "out_path = build_phillips_output_path(file_name)\n",
    "write_phillips_output_excel(cleaned_acme_output_df, out_path)"
   ],
   "id": "392d398bd99b9a0e",
   "outputs": [],
   "execution_count": null
  },
  {
   "metadata": {},
   "cell_type": "markdown",
   "source": "## Retrieve and Combine PO PDFs",
   "id": "dd2e9881d740b9a4"
  },
  {
   "metadata": {},
   "cell_type": "code",
   "source": "po_df = read_latest_po_csv()",
   "id": "2d5a6adaf997ff70",
   "outputs": [],
   "execution_count": null
  },
  {
   "metadata": {},
   "cell_type": "code",
   "source": [
    "status_df = retrieve_pdf(\n",
    "    po_df,\n",
    "    r\"output_folder\",\n",
    "    r\"\\\\10.1.12.17\\PO_Share\\P20\",\n",
    "    r\"\\\\10.1.12.17\\PO_Share\\P6Y\",\n",
    "    poll_interval=0.5,\n",
    "    settle_time=0.5,              # Wait for drop\n",
    "    max_wait_seconds=None,      # 3600 for 1 hour\n",
    "    verbose=True,\n",
    ")"
   ],
   "id": "f21ccbd7e096a7ef",
   "outputs": [],
   "execution_count": null
  },
  {
   "metadata": {},
   "cell_type": "code",
   "source": "out_path = combine_pdf()",
   "id": "1c9975beae6d0b30",
   "outputs": [],
   "execution_count": null
  }
 ],
 "metadata": {
  "kernelspec": {
   "display_name": "Python 3",
   "language": "python",
   "name": "python3"
  },
  "language_info": {
   "codemirror_mode": {
    "name": "ipython",
    "version": 2
   },
   "file_extension": ".py",
   "mimetype": "text/x-python",
   "name": "python",
   "nbconvert_exporter": "python",
   "pygments_lexer": "ipython2",
   "version": "2.7.6"
  }
 },
 "nbformat": 4,
 "nbformat_minor": 5
}
