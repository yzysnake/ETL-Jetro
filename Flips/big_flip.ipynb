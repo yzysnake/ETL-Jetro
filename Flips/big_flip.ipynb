{
 "cells": [
  {
   "cell_type": "code",
   "id": "initial_id",
   "metadata": {
    "ExecuteTime": {
     "end_time": "2025-09-05T20:10:58.846771Z",
     "start_time": "2025-09-05T20:10:58.766625Z"
    }
   },
   "source": [
    "from tools.big_flip_tool import *\n",
    "from tools.read_file_tool import *\n",
    "from tools.baby_flip_tool import *"
   ],
   "outputs": [],
   "execution_count": 6
  },
  {
   "metadata": {
    "ExecuteTime": {
     "end_time": "2025-09-05T20:11:00.023565Z",
     "start_time": "2025-09-05T20:10:59.489577Z"
    }
   },
   "cell_type": "code",
   "source": [
    "df, file_name = read_clean_file_name()\n",
    "big_flip_df, baby_flip_df = split_big_and_baby(df)\n",
    "carrier_df = read_carrier_json(file_name)"
   ],
   "id": "21439cdfcd50d089",
   "outputs": [],
   "execution_count": 7
  },
  {
   "metadata": {
    "ExecuteTime": {
     "end_time": "2025-08-27T18:57:06.695550Z",
     "start_time": "2025-08-27T18:57:06.690579Z"
    }
   },
   "cell_type": "markdown",
   "source": "## Big Flip",
   "id": "443c0c2521cb187f"
  },
  {
   "cell_type": "code",
   "id": "3d43a912-6068-4ec9-a975-0600e0fb7e19",
   "metadata": {
    "ExecuteTime": {
     "end_time": "2025-09-05T20:11:01.344980Z",
     "start_time": "2025-09-05T20:11:01.263084Z"
    }
   },
   "source": [
    "big_flip_store = build_big_flip_store(df)\n",
    "big_flip_df_cleaned = clean_big_flip_df(big_flip_df)\n",
    "big_flip_df_cleaned_pivot = build_big_flip_df_cleaned_pivot(big_flip_df_cleaned)\n",
    "big_flip_df_output = build_big_flip_output(big_flip_df_cleaned_pivot, big_flip_store)\n",
    "out_path = build_big_flip_output_path(file_name)\n",
    "write_big_flip_output_excel(big_flip_df_output, out_path)"
   ],
   "outputs": [
    {
     "name": "stderr",
     "output_type": "stream",
     "text": [
      "C:\\Users\\pye\\Desktop\\work\\Flips\\tools\\big_flip_tool.py:128: FutureWarning: DataFrame.applymap has been deprecated. Use DataFrame.map instead.\n",
      "  store[value_cols] = store[value_cols].applymap(_leading_num)\n",
      "C:\\Users\\pye\\Desktop\\work\\Flips\\tools\\big_flip_tool.py:310: UserWarning: Could not infer format, so each element will be parsed individually, falling back to `dateutil`. To ensure parsing is consistent and as-expected, please specify a format.\n",
      "  df['Expected Delivery Date'] = pd.to_datetime(df['Expected Delivery Date'], errors='coerce').dt.date\n"
     ]
    }
   ],
   "execution_count": 8
  },
  {
   "metadata": {},
   "cell_type": "markdown",
   "source": "## Baby Flip",
   "id": "565c27cc20c87f76"
  },
  {
   "metadata": {
    "ExecuteTime": {
     "end_time": "2025-09-05T20:23:06.233391Z",
     "start_time": "2025-09-05T20:23:06.144616Z"
    }
   },
   "cell_type": "code",
   "source": [
    "baby_flip_df_cleaned = clean_baby_flip_df(baby_flip_df)\n",
    "baby_flip_df_cleaned_pivot = build_baby_flip_df_cleaned_pivot(baby_flip_df_cleaned)\n",
    "po_df = read_latest_po_csv()  # waits on C:\\POs until one .xlsx appears\n",
    "baby_flip_df_output = build_baby_flip_output(baby_flip_df_cleaned_pivot, po_df, carrier_df)"
   ],
   "id": "62dd7a6f2ab8fb21",
   "outputs": [
    {
     "name": "stdout",
     "output_type": "stream",
     "text": [
      "Reading latest file: 2025-09-05_111125_P20.csv (modified 2025-09-05 15:22:13)\n",
      "Received POs:\n",
      "114-76531\n",
      "123-76533\n",
      "142-76534\n",
      "159-76535\n",
      "165-76536\n",
      "166-76537\n",
      "172-76538\n",
      "176-76539\n",
      "179-76541\n",
      "186-76543\n",
      "401-76545\n",
      "402-76548\n",
      "411-76550\n",
      "412-76553\n",
      "413-76555\n",
      "415-76559\n",
      "416-76563\n",
      "417-76566\n",
      "418-76571\n",
      "421-76575\n",
      "422-76579\n",
      "426-76583\n",
      "427-76586\n",
      "428-76589\n",
      "449-76593\n",
      "451-76596\n",
      "452-76599\n",
      "454-76602\n",
      "458-76604\n"
     ]
    }
   ],
   "execution_count": 9
  },
  {
   "metadata": {
    "ExecuteTime": {
     "end_time": "2025-09-05T20:23:08.383108Z",
     "start_time": "2025-09-05T20:23:08.284862Z"
    }
   },
   "cell_type": "code",
   "source": [
    "out_path = build_baby_flip_output_path(file_name)\n",
    "out_path = write_baby_flip_output_excel(\n",
    "    out_path,\n",
    "    baby_flip_df_output,\n",
    "    baby_flip_df,\n",
    "    baby_flip_df_cleaned,\n",
    "    baby_flip_df_cleaned_pivot,\n",
    "    po_df,\n",
    "    carrier_df,)\n",
    "\n",
    "print(f\"Wrote: {out_path}\")"
   ],
   "id": "dc206f23b2451bdc",
   "outputs": [
    {
     "name": "stdout",
     "output_type": "stream",
     "text": [
      "Wrote: output_folder\\salmon IBTs 09-05-25.xlsx\n"
     ]
    }
   ],
   "execution_count": 10
  },
  {
   "metadata": {},
   "cell_type": "code",
   "outputs": [],
   "execution_count": null,
   "source": "",
   "id": "fa5c8237891eed6"
  }
 ],
 "metadata": {
  "kernelspec": {
   "display_name": "Python 3 (ipykernel)",
   "language": "python",
   "name": "python3"
  },
  "language_info": {
   "codemirror_mode": {
    "name": "ipython",
    "version": 3
   },
   "file_extension": ".py",
   "mimetype": "text/x-python",
   "name": "python",
   "nbconvert_exporter": "python",
   "pygments_lexer": "ipython3",
   "version": "3.13.5"
  }
 },
 "nbformat": 4,
 "nbformat_minor": 5
}
