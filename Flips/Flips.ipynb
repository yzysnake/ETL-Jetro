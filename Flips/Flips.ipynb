{
 "cells": [
  {
   "cell_type": "code",
   "id": "initial_id",
   "metadata": {},
   "source": [
    "from tools.big_flip_tool import *\n",
    "from tools.read_file_tool import *\n",
    "from tools.baby_flip_tool import *\n",
    "from tools.adpo_I_tool import write_ADPO_I_file"
   ],
   "outputs": [],
   "execution_count": null
  },
  {
   "metadata": {},
   "cell_type": "code",
   "source": [
    "df, file_name = read_clean_file_name()\n",
    "big_flip_df, baby_flip_df = split_big_and_baby(df)\n",
    "carrier_df = read_carrier_json(file_name)"
   ],
   "id": "21439cdfcd50d089",
   "outputs": [],
   "execution_count": null
  },
  {
   "metadata": {
    "ExecuteTime": {
     "end_time": "2025-08-27T18:57:06.695550Z",
     "start_time": "2025-08-27T18:57:06.690579Z"
    }
   },
   "cell_type": "markdown",
   "source": "## Big Flip",
   "id": "443c0c2521cb187f"
  },
  {
   "cell_type": "code",
   "id": "3d43a912-6068-4ec9-a975-0600e0fb7e19",
   "metadata": {},
   "source": [
    "big_flip_store = build_big_flip_store(df)\n",
    "big_flip_df_cleaned = clean_big_flip_df(big_flip_df)\n",
    "big_flip_df_cleaned_pivot = build_big_flip_df_cleaned_pivot(big_flip_df_cleaned)\n",
    "big_flip_df_output = build_big_flip_output(big_flip_df_cleaned_pivot, big_flip_store)\n",
    "out_path = build_big_flip_output_path(file_name)\n",
    "write_big_flip_output_excel(big_flip_df_output, out_path)\n",
    "write_ADPO_I_file(big_flip_df_output)"
   ],
   "outputs": [],
   "execution_count": null
  },
  {
   "metadata": {},
   "cell_type": "markdown",
   "source": "## Baby Flip",
   "id": "565c27cc20c87f76"
  },
  {
   "metadata": {},
   "cell_type": "code",
   "source": [
    "baby_flip_df_cleaned = clean_baby_flip_df(baby_flip_df)\n",
    "baby_flip_df_cleaned_pivot = build_baby_flip_df_cleaned_pivot(baby_flip_df_cleaned)\n",
    "po_df = read_latest_po_csv()  # waits on C:\\POs until one .xlsx appears\n",
    "baby_flip_df_output = build_baby_flip_output(baby_flip_df_cleaned_pivot, po_df, carrier_df)"
   ],
   "id": "62dd7a6f2ab8fb21",
   "outputs": [],
   "execution_count": null
  },
  {
   "metadata": {},
   "cell_type": "code",
   "source": [
    "out_path = build_baby_flip_output_path(file_name)\n",
    "out_path = write_baby_flip_output_excel(\n",
    "    out_path,\n",
    "    baby_flip_df_output,\n",
    "    baby_flip_df,\n",
    "    baby_flip_df_cleaned,\n",
    "    baby_flip_df_cleaned_pivot,\n",
    "    po_df,\n",
    "    carrier_df,)\n",
    "\n",
    "print(f\"Wrote: {out_path}\")"
   ],
   "id": "dc206f23b2451bdc",
   "outputs": [],
   "execution_count": null
  }
 ],
 "metadata": {
  "kernelspec": {
   "display_name": "Python 3 (ipykernel)",
   "language": "python",
   "name": "python3"
  },
  "language_info": {
   "codemirror_mode": {
    "name": "ipython",
    "version": 3
   },
   "file_extension": ".py",
   "mimetype": "text/x-python",
   "name": "python",
   "nbconvert_exporter": "python",
   "pygments_lexer": "ipython3",
   "version": "3.13.5"
  }
 },
 "nbformat": 4,
 "nbformat_minor": 5
}
